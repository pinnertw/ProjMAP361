{
 "cells": [
  {
   "cell_type": "markdown",
   "metadata": {},
   "source": [
    "><b><big>S</big>1.</b> On considère tout d'abord un algorithme de gradient:<br />\n",
    "        $$ x(k + 1) = x(k) - \\gamma \\Delta G_N (x(k)) $$\n",
    "qui permet de construire une suite $x(k) \\in (\\mathbb{R}^d )^N $ dont on peut espérer qu'elle converge vers un minimum (local) de $G_N$.\n",
    "Implémenter cet algorithme pour le cas de la gaussienne en dimension 1. Pourquoi est-ce compliqué d'utiliser cet algorithme en dimension plus grande?    "
   ]
  },
  {
   "cell_type": "markdown",
   "metadata": {},
   "source": [
    "Par T3.1, on sait calculer le gradient à partir de l'espérence.\n",
    "Afin de calculer l'espérence, on utilise la formule suivante:\n",
    "$$ \\int_{-\\infty}^{\\infty} exp\\left(-\\frac{t^2}{2}\\right)dt = \\sqrt{2\\pi}$$\n",
    "et donc\n",
    "$$ \\int_{-\\infty}^{0} exp\\left(-\\frac{t^2}{2}\\right)dt = \\frac{\\sqrt{2\\pi}}{2}$$\n",
    "Le fait que c'est compliqué d'implémenter cet algorithme en dimension plus grande provient de cette difficulté: On ne peut pas calculer facilement $ \\mathbb{E} (1_{X\\in C_i (\\Gamma) } (x_i - X))$ dans la dimension plus grande."
   ]
  },
  {
   "cell_type": "code",
   "execution_count": 1,
   "metadata": {},
   "outputs": [],
   "source": [
    "import numpy as np\n",
    "from scipy.integrate import quad\n",
    "from math import sqrt, pi, exp\n",
    "import matplotlib.pyplot as plt\n",
    "%matplotlib inline"
   ]
  },
  {
   "cell_type": "code",
   "execution_count": 2,
   "metadata": {},
   "outputs": [
    {
     "data": {
      "text/plain": [
       "<matplotlib.legend.Legend at 0x7fcee43cd4a8>"
      ]
     },
     "execution_count": 2,
     "metadata": {},
     "output_type": "execute_result"
    },
    {
     "data": {
      "image/png": "[encoded data removed]",
      "text/plain": [
       "<matplotlib.figure.Figure at 0x7fcee443ef28>"
      ]
     },
     "metadata": {},
     "output_type": "display_data"
    }
   ],
   "source": [
    "# Initialisation: N, gamma, nombre d'itération\n",
    "N = 100\n",
    "gamma = 1\n",
    "ite = 1000\n",
    "\n",
    "# Calculer x(k + 1), étant donné x(k) (un array).\n",
    "def algo_de_gradient(x):\n",
    "    grad = np.zeros(N)\n",
    "    for i in range(N):\n",
    "        if i == N - 1:\n",
    "            grad[i] = (x[i] - 2 * gamma * (quad(lambda t: (x[i] - t) * exp(-t * t / 2), (x[i] + x[i - 1]) / 2, np.inf)[0]))\n",
    "        elif i == 0:\n",
    "            grad[i] = (x[i] - 2 * gamma * (quad(lambda t: (x[i] - t) * exp(-t * t / 2), np.NINF, (x[i] + x[i + 1]) / 2)[0]))\n",
    "        else:\n",
    "            grad[i] = (x[i] - 2 * gamma * \n",
    "                       quad(lambda t: (x[i] - t) * exp(-t * t / 2), (x[i-1] + x[i]) / 2, (x[i] + x[i + 1]) / 2)[0])\n",
    "    return np.sort(grad)\n",
    "\n",
    "# x\n",
    "x = np.zeros(N)\n",
    "\n",
    "# ite fois d'itérations\n",
    "for i in range(ite):\n",
    "    x = algo_de_gradient(x)\n",
    "\n",
    "# Le poids de chaque point\n",
    "proba = np.zeros(N)\n",
    "for i in range(N):\n",
    "    if i == N - 1:\n",
    "        proba[i] = proba[i - 1] + quad(lambda t: exp(-t * t / 2), (x[i] + x[i - 1]) / 2, np.inf)[0]\n",
    "    elif i == 0:\n",
    "        proba[i] = quad(lambda t: exp(-t * t / 2), np.NINF, (x[i] + x[i + 1]) / 2)[0]\n",
    "    else:\n",
    "        proba[i] = proba[i - 1] + quad(lambda t: exp(-t * t / 2), (x[i-1] + x[i]) / 2, (x[i] + x[i + 1]) / 2)[0]\n",
    "\n",
    "plt.plot(x, proba / 2.5, label=\"loi discrète\")\n",
    "\n",
    "# Gaussien\n",
    "Gx = np.linspace(-5, 5, 400)\n",
    "Gy = np.array([quad(lambda t: exp(-t * t / 2) / sqrt(1 / (2 * pi)) / 2 / pi, np.NINF, nb)[0] for nb in Gx])\n",
    "plt.plot(Gx, Gy,color=\"red\", label=\"Répartition gaussienne\")\n",
    "\n",
    "plt.legend(loc='best')\n",
    "\n"
   ]
  }
 ],
 "metadata": {
  "kernelspec": {
   "display_name": "Python 3",
   "language": "python",
   "name": "python3"
  },
  "language_info": {
   "codemirror_mode": {
    "name": "ipython",
    "version": 3
   },
   "file_extension": ".py",
   "mimetype": "text/x-python",
   "name": "python",
   "nbconvert_exporter": "python",
   "pygments_lexer": "ipython3",
   "version": "3.6.7"
  }
 },
 "nbformat": 4,
 "nbformat_minor": 2
}
